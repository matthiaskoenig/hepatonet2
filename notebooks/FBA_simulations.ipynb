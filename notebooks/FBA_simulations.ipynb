{
 "cells": [
  {
   "cell_type": "markdown",
   "metadata": {},
   "source": [
    "# FBA simulations \n",
    "Example simulations with submodules.\n",
    "Uses cobrapy for simulation\n",
    "https://opencobra.github.io/cobrapy/"
   ]
  },
  {
   "cell_type": "code",
   "execution_count": 6,
   "metadata": {},
   "outputs": [
    {
     "name": "stdout",
     "output_type": "stream",
     "text": [
      "/home/mkoenig/git/hepatonet2/notebooks\n"
     ]
    }
   ],
   "source": [
    "import os\n",
    "print(os.getcwd())\n",
    "submodels_path = \"../models/subsystems\""
   ]
  },
  {
   "cell_type": "code",
   "execution_count": 7,
   "metadata": {},
   "outputs": [
    {
     "name": "stderr",
     "output_type": "stream",
     "text": [
      "https://identifier.org/uniprot/P11926 does not conform to http(s)://identifiers.org/collection/id\n",
      "https://identifier.org/uniprot/P00860 does not conform to http(s)://identifiers.org/collection/id\n",
      "https://identifier.org/uniprot/P09057 does not conform to http(s)://identifiers.org/collection/id\n",
      "https://identifier.org/uniprot/Q9NQR4 does not conform to http(s)://identifiers.org/collection/id\n",
      "https://identifier.org/uniprot/Q9JHW2 does not conform to http(s)://identifiers.org/collection/id\n",
      "https://identifier.org/uniprot/Q497B0 does not conform to http(s)://identifiers.org/collection/id\n",
      "https://identifier.org/uniprot/P78540 does not conform to http(s)://identifiers.org/collection/id\n",
      "https://identifier.org/uniprot/O08691 does not conform to http(s)://identifiers.org/collection/id\n",
      "https://identifier.org/uniprot/G3V7H6 does not conform to http(s)://identifiers.org/collection/id\n",
      "https://identifier.org/uniprot/P19801 does not conform to http(s)://identifiers.org/collection/id\n",
      "https://identifier.org/uniprot/Q6IMK7 does not conform to http(s)://identifiers.org/collection/id\n",
      "https://identifier.org/uniprot/Q6IMK6 does not conform to http(s)://identifiers.org/collection/id\n",
      "https://identifier.org/uniprot/P54886 does not conform to http(s)://identifiers.org/collection/id\n",
      "https://identifier.org/uniprot/Q9Z110 does not conform to http(s)://identifiers.org/collection/id\n",
      "https://identifier.org/uniprot/D3ZIE9 does not conform to http(s)://identifiers.org/collection/id\n",
      "https://identifier.org/uniprot/Q14353 does not conform to http(s)://identifiers.org/collection/id\n",
      "https://identifier.org/uniprot/O35969 does not conform to http(s)://identifiers.org/collection/id\n",
      "https://identifier.org/uniprot/G3V960 does not conform to http(s)://identifiers.org/collection/id\n",
      "https://identifier.org/uniprot/Q14353 does not conform to http(s)://identifiers.org/collection/id\n",
      "https://identifier.org/uniprot/O35969 does not conform to http(s)://identifiers.org/collection/id\n",
      "https://identifier.org/uniprot/G3V960 does not conform to http(s)://identifiers.org/collection/id\n",
      "https://identifier.org/uniprot/P06732 does not conform to http(s)://identifiers.org/collection/id\n",
      "https://identifier.org/uniprot/A2RTA0 does not conform to http(s)://identifiers.org/collection/id\n",
      "https://identifier.org/uniprot/P07310 does not conform to http(s)://identifiers.org/collection/id\n",
      "https://identifier.org/uniprot/A0A0G2JSP8 does not conform to http(s)://identifiers.org/collection/id\n",
      "https://identifier.org/uniprot/P12277 does not conform to http(s)://identifiers.org/collection/id\n",
      "https://identifier.org/uniprot/Q04447 does not conform to http(s)://identifiers.org/collection/id\n",
      "https://identifier.org/uniprot/P07335 does not conform to http(s)://identifiers.org/collection/id\n",
      "https://identifier.org/uniprot/P19623 does not conform to http(s)://identifiers.org/collection/id\n",
      "https://identifier.org/uniprot/Q543H0 does not conform to http(s)://identifiers.org/collection/id\n",
      "https://identifier.org/uniprot/Q64674 does not conform to http(s)://identifiers.org/collection/id\n",
      "https://identifier.org/uniprot/Q99MI5 does not conform to http(s)://identifiers.org/collection/id\n",
      "https://identifier.org/uniprot/P52788 does not conform to http(s)://identifiers.org/collection/id\n",
      "https://identifier.org/uniprot/Q96HD9 does not conform to http(s)://identifiers.org/collection/id\n",
      "https://identifier.org/uniprot/Q91XE4 does not conform to http(s)://identifiers.org/collection/id\n",
      "https://identifier.org/uniprot/Q5M876 does not conform to http(s)://identifiers.org/collection/id\n",
      "https://identifier.org/uniprot/Q4FK77 does not conform to http(s)://identifiers.org/collection/id\n",
      "https://identifier.org/uniprot/Q9JJJ3 does not conform to http(s)://identifiers.org/collection/id\n",
      "https://identifier.org/uniprot/P56627 does not conform to http(s)://identifiers.org/collection/id\n",
      "https://identifier.org/uniprot/P17540 does not conform to http(s)://identifiers.org/collection/id\n",
      "https://identifier.org/uniprot/Q6P8J7 does not conform to http(s)://identifiers.org/collection/id\n",
      "https://identifier.org/uniprot/P12532 does not conform to http(s)://identifiers.org/collection/id\n",
      "https://identifier.org/uniprot/Q545N7 does not conform to http(s)://identifiers.org/collection/id\n",
      "https://identifier.org/uniprot/P30275 does not conform to http(s)://identifiers.org/collection/id\n",
      "https://identifier.org/uniprot/Q5BJT9 does not conform to http(s)://identifiers.org/collection/id\n",
      "https://identifier.org/uniprot/Q545N7 does not conform to http(s)://identifiers.org/collection/id\n",
      "https://identifier.org/uniprot/P30275 does not conform to http(s)://identifiers.org/collection/id\n",
      "https://identifier.org/uniprot/Q5BJT9 does not conform to http(s)://identifiers.org/collection/id\n",
      "https://identifier.org/uniprot/P30038 does not conform to http(s)://identifiers.org/collection/id\n",
      "https://identifier.org/uniprot/Q8CHT0 does not conform to http(s)://identifiers.org/collection/id\n",
      "https://identifier.org/uniprot/P0C6R4 does not conform to http(s)://identifiers.org/collection/id\n",
      "https://identifier.org/uniprot/Q9Z0R7 does not conform to http(s)://identifiers.org/collection/id\n",
      "https://identifier.org/uniprot/P50440 does not conform to http(s)://identifiers.org/collection/id\n",
      "https://identifier.org/uniprot/Q9D964 does not conform to http(s)://identifiers.org/collection/id\n",
      "https://identifier.org/uniprot/Q9UL12 does not conform to http(s)://identifiers.org/collection/id\n",
      "https://identifier.org/uniprot/Q3TWI2 does not conform to http(s)://identifiers.org/collection/id\n",
      "https://identifier.org/uniprot/Q99LB7 does not conform to http(s)://identifiers.org/collection/id\n",
      "https://identifier.org/uniprot/F1LRY5 does not conform to http(s)://identifiers.org/collection/id\n",
      "https://identifier.org/uniprot/Q6AYS7 does not conform to http(s)://identifiers.org/collection/id\n",
      "https://identifier.org/uniprot/Q8N159 does not conform to http(s)://identifiers.org/collection/id\n",
      "https://identifier.org/uniprot/Q8R4H7 does not conform to http(s)://identifiers.org/collection/id\n",
      "https://identifier.org/uniprot/D4A904 does not conform to http(s)://identifiers.org/collection/id\n",
      "https://identifier.org/uniprot/P00480 does not conform to http(s)://identifiers.org/collection/id\n",
      "https://identifier.org/uniprot/Q543H3 does not conform to http(s)://identifiers.org/collection/id\n",
      "https://identifier.org/uniprot/Q8R1A8 does not conform to http(s)://identifiers.org/collection/id\n",
      "https://identifier.org/uniprot/P11725 does not conform to http(s)://identifiers.org/collection/id\n",
      "https://identifier.org/uniprot/P00481 does not conform to http(s)://identifiers.org/collection/id\n",
      "https://identifier.org/uniprot/P04181 does not conform to http(s)://identifiers.org/collection/id\n",
      "https://identifier.org/uniprot/Q3TG75 does not conform to http(s)://identifiers.org/collection/id\n",
      "https://identifier.org/uniprot/P29758 does not conform to http(s)://identifiers.org/collection/id\n",
      "https://identifier.org/uniprot/P04182 does not conform to http(s)://identifiers.org/collection/id\n",
      "https://identifier.org/uniprot/P05089 does not conform to http(s)://identifiers.org/collection/id\n",
      "https://identifier.org/uniprot/Q61176 does not conform to http(s)://identifiers.org/collection/id\n",
      "https://identifier.org/uniprot/P07824 does not conform to http(s)://identifiers.org/collection/id\n"
     ]
    },
    {
     "ename": "CobraSBMLError",
     "evalue": "Something went wrong reading the model. You can get a detailed report using the `cobra.io.sbml3.validate_sbml_model` function or using the online validator at http://sbml.org/validator",
     "output_type": "error",
     "traceback": [
      "\u001b[0;31m---------------------------------------------------------------------------\u001b[0m",
      "\u001b[0;31mAttributeError\u001b[0m                            Traceback (most recent call last)",
      "\u001b[0;32m~/git/cobrapy/cobra/io/sbmlnew.py\u001b[0m in \u001b[0;36mread_sbml_model\u001b[0;34m(filename, number, f_replace, **kwargs)\u001b[0m\n\u001b[1;32m    129\u001b[0m         \u001b[0mdoc\u001b[0m \u001b[0;34m=\u001b[0m \u001b[0m_get_doc_from_filename\u001b[0m\u001b[0;34m(\u001b[0m\u001b[0mfilename\u001b[0m\u001b[0;34m)\u001b[0m\u001b[0;34m\u001b[0m\u001b[0m\n\u001b[0;32m--> 130\u001b[0;31m         \u001b[0;32mreturn\u001b[0m \u001b[0m_sbml_to_model\u001b[0m\u001b[0;34m(\u001b[0m\u001b[0mdoc\u001b[0m\u001b[0;34m,\u001b[0m \u001b[0mnumber\u001b[0m\u001b[0;34m=\u001b[0m\u001b[0mnumber\u001b[0m\u001b[0;34m,\u001b[0m \u001b[0mf_replace\u001b[0m\u001b[0;34m=\u001b[0m\u001b[0mf_replace\u001b[0m\u001b[0;34m,\u001b[0m \u001b[0;34m**\u001b[0m\u001b[0mkwargs\u001b[0m\u001b[0;34m)\u001b[0m\u001b[0;34m\u001b[0m\u001b[0m\n\u001b[0m\u001b[1;32m    131\u001b[0m     \u001b[0;32mexcept\u001b[0m \u001b[0mException\u001b[0m\u001b[0;34m:\u001b[0m\u001b[0;34m\u001b[0m\u001b[0m\n",
      "\u001b[0;32m~/git/cobrapy/cobra/io/sbmlnew.py\u001b[0m in \u001b[0;36m_sbml_to_model\u001b[0;34m(doc, number, f_replace, **kwargs)\u001b[0m\n\u001b[1;32m    423\u001b[0m             \u001b[0mobj\u001b[0m \u001b[0;34m=\u001b[0m \u001b[0mmodel_fbc\u001b[0m\u001b[0;34m.\u001b[0m\u001b[0mgetObjective\u001b[0m\u001b[0;34m(\u001b[0m\u001b[0mobj_id\u001b[0m\u001b[0;34m)\u001b[0m  \u001b[0;31m# type: libsbml.Objective\u001b[0m\u001b[0;34m\u001b[0m\u001b[0m\n\u001b[0;32m--> 424\u001b[0;31m             \u001b[0mobj_direction\u001b[0m \u001b[0;34m=\u001b[0m \u001b[0mLONG_SHORT_DIRECTION\u001b[0m\u001b[0;34m[\u001b[0m\u001b[0mobj\u001b[0m\u001b[0;34m.\u001b[0m\u001b[0mgetType\u001b[0m\u001b[0;34m(\u001b[0m\u001b[0;34m)\u001b[0m\u001b[0;34m]\u001b[0m\u001b[0;34m\u001b[0m\u001b[0m\n\u001b[0m\u001b[1;32m    425\u001b[0m \u001b[0;34m\u001b[0m\u001b[0m\n",
      "\u001b[0;31mAttributeError\u001b[0m: 'NoneType' object has no attribute 'getType'",
      "\nDuring handling of the above exception, another exception occurred:\n",
      "\u001b[0;31mCobraSBMLError\u001b[0m                            Traceback (most recent call last)",
      "\u001b[0;32m<ipython-input-7-2b144255ac9f>\u001b[0m in \u001b[0;36m<module>\u001b[0;34m()\u001b[0m\n\u001b[1;32m      1\u001b[0m \u001b[0;32mimport\u001b[0m \u001b[0mcobra\u001b[0m\u001b[0;34m\u001b[0m\u001b[0m\n\u001b[1;32m      2\u001b[0m \u001b[0;32mfrom\u001b[0m \u001b[0mcobra\u001b[0m\u001b[0;34m.\u001b[0m\u001b[0mio\u001b[0m \u001b[0;32mimport\u001b[0m \u001b[0msbmlnew\u001b[0m\u001b[0;34m\u001b[0m\u001b[0m\n\u001b[0;32m----> 3\u001b[0;31m \u001b[0mmodel\u001b[0m \u001b[0;34m=\u001b[0m \u001b[0mcobra\u001b[0m\u001b[0;34m.\u001b[0m\u001b[0mio\u001b[0m\u001b[0;34m.\u001b[0m\u001b[0msbmlnew\u001b[0m\u001b[0;34m.\u001b[0m\u001b[0mread_sbml_model\u001b[0m\u001b[0;34m(\u001b[0m\u001b[0mos\u001b[0m\u001b[0;34m.\u001b[0m\u001b[0mpath\u001b[0m\u001b[0;34m.\u001b[0m\u001b[0mjoin\u001b[0m\u001b[0;34m(\u001b[0m\u001b[0msubmodels_path\u001b[0m\u001b[0;34m,\u001b[0m \u001b[0;34m\"human_urea_cycle.xml\"\u001b[0m\u001b[0;34m)\u001b[0m\u001b[0;34m)\u001b[0m\u001b[0;34m\u001b[0m\u001b[0m\n\u001b[0m",
      "\u001b[0;32m~/git/cobrapy/cobra/io/sbmlnew.py\u001b[0m in \u001b[0;36mread_sbml_model\u001b[0;34m(filename, number, f_replace, **kwargs)\u001b[0m\n\u001b[1;32m    131\u001b[0m     \u001b[0;32mexcept\u001b[0m \u001b[0mException\u001b[0m\u001b[0;34m:\u001b[0m\u001b[0;34m\u001b[0m\u001b[0m\n\u001b[1;32m    132\u001b[0m         raise CobraSBMLError(\n\u001b[0;32m--> 133\u001b[0;31m             \u001b[0;34m\"Something went wrong reading the model. You can get a detailed \"\u001b[0m\u001b[0;34m\u001b[0m\u001b[0m\n\u001b[0m\u001b[1;32m    134\u001b[0m             \u001b[0;34m\"report using the `cobra.io.sbml3.validate_sbml_model` function \"\u001b[0m\u001b[0;34m\u001b[0m\u001b[0m\n\u001b[1;32m    135\u001b[0m             \"or using the online validator at http://sbml.org/validator\")\n",
      "\u001b[0;31mCobraSBMLError\u001b[0m: Something went wrong reading the model. You can get a detailed report using the `cobra.io.sbml3.validate_sbml_model` function or using the online validator at http://sbml.org/validator"
     ]
    }
   ],
   "source": [
    "import cobra\n",
    "from cobra.io import sbmlnew\n",
    "model = cobra.io.sbmlnew.read_sbml_model(os.path.join(submodels_path, \"human_urea_cycle.xml\"))"
   ]
  },
  {
   "cell_type": "code",
   "execution_count": null,
   "metadata": {},
   "outputs": [],
   "source": []
  }
 ],
 "metadata": {
  "kernelspec": {
   "display_name": "hepatonet2",
   "language": "python",
   "name": "hepatonet2"
  },
  "language_info": {
   "codemirror_mode": {
    "name": "ipython",
    "version": 3
   },
   "file_extension": ".py",
   "mimetype": "text/x-python",
   "name": "python",
   "nbconvert_exporter": "python",
   "pygments_lexer": "ipython3",
   "version": "3.5.2"
  }
 },
 "nbformat": 4,
 "nbformat_minor": 2
}
